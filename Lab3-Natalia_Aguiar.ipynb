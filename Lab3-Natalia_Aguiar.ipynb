{
  "nbformat": 4,
  "nbformat_minor": 0,
  "metadata": {
    "colab": {
      "provenance": [],
      "collapsed_sections": [
        "6o5zYVOU8ahE",
        "bJfwk8tnVV2E"
      ],
      "include_colab_link": true
    },
    "kernelspec": {
      "name": "python3",
      "display_name": "Python 3"
    },
    "language_info": {
      "name": "python"
    }
  },
  "cells": [
    {
      "cell_type": "markdown",
      "metadata": {
        "id": "view-in-github",
        "colab_type": "text"
      },
      "source": [
        "<a href=\"https://colab.research.google.com/github/n-aguiar/Data_Science/blob/main/Natalia_Aguiar%2C_2023_Lab_3.ipynb\" target=\"_parent\"><img src=\"https://colab.research.google.com/assets/colab-badge.svg\" alt=\"Open In Colab\"/></a>"
      ]
    },
    {
      "cell_type": "markdown",
      "source": [
        "# Stats Notebook Lab #3"
      ],
      "metadata": {
        "id": "GEwHyK5ve9lG"
      }
    },
    {
      "cell_type": "markdown",
      "source": [
        "### Loops"
      ],
      "metadata": {
        "id": "w8jTQA6itPS_"
      }
    },
    {
      "cell_type": "code",
      "source": [
        "for i in range(100):\n",
        "    print(i) #prints the loop out"
      ],
      "metadata": {
        "id": "L7a5MPStqZW9",
        "colab": {
          "base_uri": "https://localhost:8080/"
        },
        "outputId": "fc11937b-0654-426b-8467-8c762ff80061"
      },
      "execution_count": 15,
      "outputs": [
        {
          "output_type": "stream",
          "name": "stdout",
          "text": [
            "0\n",
            "1\n",
            "2\n",
            "3\n",
            "4\n",
            "5\n",
            "6\n",
            "7\n",
            "8\n",
            "9\n",
            "10\n",
            "11\n",
            "12\n",
            "13\n",
            "14\n",
            "15\n",
            "16\n",
            "17\n",
            "18\n",
            "19\n",
            "20\n",
            "21\n",
            "22\n",
            "23\n",
            "24\n",
            "25\n",
            "26\n",
            "27\n",
            "28\n",
            "29\n",
            "30\n",
            "31\n",
            "32\n",
            "33\n",
            "34\n",
            "35\n",
            "36\n",
            "37\n",
            "38\n",
            "39\n",
            "40\n",
            "41\n",
            "42\n",
            "43\n",
            "44\n",
            "45\n",
            "46\n",
            "47\n",
            "48\n",
            "49\n",
            "50\n",
            "51\n",
            "52\n",
            "53\n",
            "54\n",
            "55\n",
            "56\n",
            "57\n",
            "58\n",
            "59\n",
            "60\n",
            "61\n",
            "62\n",
            "63\n",
            "64\n",
            "65\n",
            "66\n",
            "67\n",
            "68\n",
            "69\n",
            "70\n",
            "71\n",
            "72\n",
            "73\n",
            "74\n",
            "75\n",
            "76\n",
            "77\n",
            "78\n",
            "79\n",
            "80\n",
            "81\n",
            "82\n",
            "83\n",
            "84\n",
            "85\n",
            "86\n",
            "87\n",
            "88\n",
            "89\n",
            "90\n",
            "91\n",
            "92\n",
            "93\n",
            "94\n",
            "95\n",
            "96\n",
            "97\n",
            "98\n",
            "99\n"
          ]
        }
      ]
    },
    {
      "cell_type": "code",
      "source": [
        "for i in range(5,8):\n",
        "    print(i) #i is just a variable"
      ],
      "metadata": {
        "colab": {
          "base_uri": "https://localhost:8080/"
        },
        "id": "GiqhhjfLqZZm",
        "outputId": "8964bac6-e79a-4218-bf74-cf6cb2999edd"
      },
      "execution_count": 16,
      "outputs": [
        {
          "output_type": "stream",
          "name": "stdout",
          "text": [
            "5\n",
            "6\n",
            "7\n"
          ]
        }
      ]
    },
    {
      "cell_type": "code",
      "source": [
        "for i in range(3):\n",
        "    print( \"Test Number: \" , i ) # inserting a \"x\", makes in appear before the range stated above"
      ],
      "metadata": {
        "colab": {
          "base_uri": "https://localhost:8080/"
        },
        "id": "ezhAeX6pqZb0",
        "outputId": "7c285726-51ba-42eb-ec7e-de2d4e806307"
      },
      "execution_count": 17,
      "outputs": [
        {
          "output_type": "stream",
          "name": "stdout",
          "text": [
            "Test Number:  0\n",
            "Test Number:  1\n",
            "Test Number:  2\n"
          ]
        }
      ]
    },
    {
      "cell_type": "markdown",
      "source": [
        "### Functions"
      ],
      "metadata": {
        "id": "A6PCCPY2vkHs"
      }
    },
    {
      "cell_type": "code",
      "source": [
        "def square(x):\n",
        "    return x**2 #gives a function and action to a term"
      ],
      "metadata": {
        "id": "P4rxbIKhthov"
      },
      "execution_count": 18,
      "outputs": []
    },
    {
      "cell_type": "code",
      "source": [
        "square(5)"
      ],
      "metadata": {
        "id": "tapdcxMhthq5",
        "colab": {
          "base_uri": "https://localhost:8080/"
        },
        "outputId": "d26ca0a4-a862-4f05-99e7-311e22a9c7c3"
      },
      "execution_count": 19,
      "outputs": [
        {
          "output_type": "execute_result",
          "data": {
            "text/plain": [
              "25"
            ]
          },
          "metadata": {},
          "execution_count": 19
        }
      ]
    },
    {
      "cell_type": "code",
      "source": [
        "square(square(2)) #i can insert the variable into itself just like a normal equation"
      ],
      "metadata": {
        "colab": {
          "base_uri": "https://localhost:8080/"
        },
        "id": "ggut_uVy_rSf",
        "outputId": "1586a41b-0611-48e6-998c-2978089baf13"
      },
      "execution_count": 20,
      "outputs": [
        {
          "output_type": "execute_result",
          "data": {
            "text/plain": [
              "16"
            ]
          },
          "metadata": {},
          "execution_count": 20
        }
      ]
    },
    {
      "cell_type": "code",
      "source": [
        "square(square(square(2)))\n"
      ],
      "metadata": {
        "colab": {
          "base_uri": "https://localhost:8080/"
        },
        "id": "95jAfJVR_94h",
        "outputId": "063cebcc-b8a6-4451-ec79-d1d08d7c38d3"
      },
      "execution_count": 21,
      "outputs": [
        {
          "output_type": "execute_result",
          "data": {
            "text/plain": [
              "256"
            ]
          },
          "metadata": {},
          "execution_count": 21
        }
      ]
    },
    {
      "cell_type": "code",
      "source": [
        "square(123456)"
      ],
      "metadata": {
        "colab": {
          "base_uri": "https://localhost:8080/"
        },
        "id": "8Ni3UM4r_sav",
        "outputId": "d09e3a27-3d65-42d8-87c9-0b2e8c19df0c"
      },
      "execution_count": 22,
      "outputs": [
        {
          "output_type": "execute_result",
          "data": {
            "text/plain": [
              "15241383936"
            ]
          },
          "metadata": {},
          "execution_count": 22
        }
      ]
    },
    {
      "cell_type": "code",
      "source": [
        "square(square(5))"
      ],
      "metadata": {
        "colab": {
          "base_uri": "https://localhost:8080/"
        },
        "id": "zCJeQUED_vO4",
        "outputId": "a89afeb0-4f1c-4fba-d880-2d98d00b0b88"
      },
      "execution_count": 23,
      "outputs": [
        {
          "output_type": "execute_result",
          "data": {
            "text/plain": [
              "625"
            ]
          },
          "metadata": {},
          "execution_count": 23
        }
      ]
    },
    {
      "cell_type": "code",
      "source": [
        "def add_two(x):\n",
        "    return x+2 "
      ],
      "metadata": {
        "id": "Ifx93-xithtM"
      },
      "execution_count": 24,
      "outputs": []
    },
    {
      "cell_type": "code",
      "source": [
        "add_two(5)"
      ],
      "metadata": {
        "colab": {
          "base_uri": "https://localhost:8080/"
        },
        "id": "YOzLVIluthvX",
        "outputId": "6ce1c35e-8c08-404f-b9b0-4f2fbf9b8381"
      },
      "execution_count": 25,
      "outputs": [
        {
          "output_type": "execute_result",
          "data": {
            "text/plain": [
              "7"
            ]
          },
          "metadata": {},
          "execution_count": 25
        }
      ]
    },
    {
      "cell_type": "code",
      "source": [
        "square(add_two(5)) #adding the two variables made"
      ],
      "metadata": {
        "colab": {
          "base_uri": "https://localhost:8080/"
        },
        "id": "Rbj7x0pYteTE",
        "outputId": "fd3badd1-e16e-497c-b939-c705d341a683"
      },
      "execution_count": 26,
      "outputs": [
        {
          "output_type": "execute_result",
          "data": {
            "text/plain": [
              "49"
            ]
          },
          "metadata": {},
          "execution_count": 26
        }
      ]
    },
    {
      "cell_type": "markdown",
      "source": [
        "### Logical Branching"
      ],
      "metadata": {
        "id": "xApDPXnTv2xj"
      }
    },
    {
      "cell_type": "code",
      "source": [
        "choice = \"apple\" #sets a variable"
      ],
      "metadata": {
        "id": "e0M7Azbth_u3"
      },
      "execution_count": 27,
      "outputs": []
    },
    {
      "cell_type": "code",
      "source": [
        "if choice == \"apple\":\n",
        "\n",
        "    print(\"You choose apples.\") #making a decision oriented statement\n",
        "\n",
        "else:\n",
        "    \n",
        "    print(\"You did not choose apples.\")"
      ],
      "metadata": {
        "colab": {
          "base_uri": "https://localhost:8080/"
        },
        "id": "9VoLDXjgwSSx",
        "outputId": "2afbf0dd-15a6-4c17-8e7d-da97e1c3de8c"
      },
      "execution_count": 28,
      "outputs": [
        {
          "output_type": "stream",
          "name": "stdout",
          "text": [
            "You choose apples.\n"
          ]
        }
      ]
    },
    {
      "cell_type": "markdown",
      "source": [
        "Changing the choice and keeping the code, creates a different outcome"
      ],
      "metadata": {
        "id": "T4-EkmFtHVe4"
      }
    },
    {
      "cell_type": "code",
      "source": [
        "choice = \"orange\""
      ],
      "metadata": {
        "id": "YueQEzQfwUwM"
      },
      "execution_count": 29,
      "outputs": []
    },
    {
      "cell_type": "code",
      "source": [
        "if choice == \"apple\": \n",
        "\n",
        "    print(\"You choose apples.\")\n",
        "\n",
        "else:\n",
        "    \n",
        "    print(\"You did not choose apples.\")"
      ],
      "metadata": {
        "colab": {
          "base_uri": "https://localhost:8080/"
        },
        "outputId": "e993a924-dc43-470c-e74a-500b474e1a5c",
        "id": "P88tbCMiwUwN"
      },
      "execution_count": 30,
      "outputs": [
        {
          "output_type": "stream",
          "name": "stdout",
          "text": [
            "You did not choose apples.\n"
          ]
        }
      ]
    },
    {
      "cell_type": "code",
      "source": [
        "choice = \"apple\""
      ],
      "metadata": {
        "id": "pMJWHWfLCBAz"
      },
      "execution_count": 31,
      "outputs": []
    },
    {
      "cell_type": "code",
      "source": [
        "if choice == \"apple\":\n",
        "\n",
        "    print(\"You choose apples.\")\n",
        "    print(\"Thank you, shop again!\")\n",
        "    print(2**123) #prints a number sequence after\n",
        "\n",
        "elif choice == \"orange\":\n",
        "\n",
        "    print(\"You choose oranges.\")\n",
        "    print(\"Thank you, shop again!\")\n",
        "\n",
        "else:\n",
        "    \n",
        "    print(\"You did not choose apples or oranges.\")\n",
        "    print(\"Thank you, shop again!\") #all that i write after print in the same vertical line will be printed our based on the choice"
      ],
      "metadata": {
        "colab": {
          "base_uri": "https://localhost:8080/"
        },
        "id": "aLYE3A7Qv5Oq",
        "outputId": "9aef6025-7732-4988-df5d-57413e5eb234"
      },
      "execution_count": 32,
      "outputs": [
        {
          "output_type": "stream",
          "name": "stdout",
          "text": [
            "You choose apples.\n",
            "Thank you, shop again!\n",
            "10633823966279326983230456482242756608\n"
          ]
        }
      ]
    },
    {
      "cell_type": "markdown",
      "source": [
        "### User Input"
      ],
      "metadata": {
        "id": "DS5-YMih0kcD"
      }
    },
    {
      "cell_type": "code",
      "source": [
        "choice = input(\"Please enter your choice (i.e. apple): \") #input creates the oppurtunity for the person to make the decision"
      ],
      "metadata": {
        "id": "VtkIsuCmv5T4",
        "colab": {
          "base_uri": "https://localhost:8080/"
        },
        "outputId": "eb0425d7-e9a0-4c21-c470-0576946a88fa"
      },
      "execution_count": 34,
      "outputs": [
        {
          "name": "stdout",
          "output_type": "stream",
          "text": [
            "Please enter your choice (i.e. apple): apple\n"
          ]
        }
      ]
    },
    {
      "cell_type": "code",
      "source": [
        "choice"
      ],
      "metadata": {
        "colab": {
          "base_uri": "https://localhost:8080/",
          "height": 35
        },
        "id": "qRPsF5Njv5WL",
        "outputId": "2f0a7f03-4873-44bb-e61d-6ec48e81f6e1"
      },
      "execution_count": 35,
      "outputs": [
        {
          "output_type": "execute_result",
          "data": {
            "text/plain": [
              "'apple'"
            ],
            "application/vnd.google.colaboratory.intrinsic+json": {
              "type": "string"
            }
          },
          "metadata": {},
          "execution_count": 35
        }
      ]
    },
    {
      "cell_type": "code",
      "source": [
        "if choice == \"apple\":\n",
        "\n",
        "    print(\"You choose apples.\")\n",
        "\n",
        "elif choice == \"oranges\": #elif is like 2nd option\n",
        "\n",
        "    print(\"You choose oranges.\")\n",
        "\n",
        "else: #else is anything else \n",
        "    \n",
        "    print(\"You did not choose apples or oranges.\")"
      ],
      "metadata": {
        "id": "VAMAM01i0ytR",
        "colab": {
          "base_uri": "https://localhost:8080/"
        },
        "outputId": "4637c7a7-3f55-48d2-a9f0-7cc0347f0754"
      },
      "execution_count": 36,
      "outputs": [
        {
          "output_type": "stream",
          "name": "stdout",
          "text": [
            "You choose apples.\n"
          ]
        }
      ]
    },
    {
      "cell_type": "markdown",
      "source": [
        "#### Coins"
      ],
      "metadata": {
        "id": "W-bPqHQs5WEW"
      }
    },
    {
      "cell_type": "code",
      "source": [
        "import numpy as np"
      ],
      "metadata": {
        "id": "fISqAVKzCKMv"
      },
      "execution_count": 39,
      "outputs": []
    },
    {
      "cell_type": "code",
      "source": [
        "np.random.random() #generates a random number 0<x<1"
      ],
      "metadata": {
        "id": "Qo72tOfu5YTm",
        "colab": {
          "base_uri": "https://localhost:8080/"
        },
        "outputId": "93a73688-0494-46eb-f9c3-344e85378548"
      },
      "execution_count": 49,
      "outputs": [
        {
          "output_type": "execute_result",
          "data": {
            "text/plain": [
              "0.8429700161221361"
            ]
          },
          "metadata": {},
          "execution_count": 49
        }
      ]
    },
    {
      "cell_type": "code",
      "source": [
        "np.random.random() > 0.5 #giving a range for the number either true or false"
      ],
      "metadata": {
        "id": "Ew6vCebg5aXK",
        "colab": {
          "base_uri": "https://localhost:8080/"
        },
        "outputId": "0dba93a1-ea47-4400-e1b6-7db4c4e73be5"
      },
      "execution_count": 57,
      "outputs": [
        {
          "output_type": "execute_result",
          "data": {
            "text/plain": [
              "False"
            ]
          },
          "metadata": {},
          "execution_count": 57
        }
      ]
    },
    {
      "cell_type": "code",
      "source": [
        "def flip_coin():\n",
        "    if np.random.random() > 0.5:\n",
        "        print(\"Heads\") #instead of writing true, we told the code that it is heads\n",
        "    else:\n",
        "        print(\"Tails\") #instead of writing false, we told the code that it is tails"
      ],
      "metadata": {
        "id": "HwbqZHbm5e2u"
      },
      "execution_count": 64,
      "outputs": []
    },
    {
      "cell_type": "code",
      "source": [
        "flip_coin() #testing the code"
      ],
      "metadata": {
        "id": "ZcbnR1ln5sNh",
        "colab": {
          "base_uri": "https://localhost:8080/"
        },
        "outputId": "109c9ddd-69e1-43b3-81b5-1010939657ec"
      },
      "execution_count": 66,
      "outputs": [
        {
          "output_type": "stream",
          "name": "stdout",
          "text": [
            "Tails\n"
          ]
        }
      ]
    },
    {
      "cell_type": "markdown",
      "source": [
        "### Graphics Output"
      ],
      "metadata": {
        "id": "lrL2Razq9AT7"
      }
    },
    {
      "cell_type": "code",
      "metadata": {
        "id": "WPnpRgBWpoSP"
      },
      "source": [
        "from IPython.core.display import display, HTML"
      ],
      "execution_count": 67,
      "outputs": []
    },
    {
      "cell_type": "code",
      "metadata": {
        "id": "scoPAjX5I36X",
        "colab": {
          "base_uri": "https://localhost:8080/",
          "height": 74
        },
        "outputId": "18269dc4-f0ac-4157-bbef-3e554db0fda3"
      },
      "source": [
        "display(HTML('<h1>Hello, world!</h1>')) #different <h'n'> values gives a different size"
      ],
      "execution_count": 68,
      "outputs": [
        {
          "output_type": "display_data",
          "data": {
            "text/plain": [
              "<IPython.core.display.HTML object>"
            ],
            "text/html": [
              "<h1>Hello, world!</h1>"
            ]
          },
          "metadata": {}
        }
      ]
    },
    {
      "cell_type": "code",
      "source": [
        "import numpy as np"
      ],
      "metadata": {
        "id": "VfCcs79xLqff"
      },
      "execution_count": 69,
      "outputs": []
    },
    {
      "cell_type": "code",
      "metadata": {
        "id": "vFHNmtSRpyXg"
      },
      "source": [
        "def coin():\n",
        "  return np.random.randint(2) #random.randint(x) gives an integer rather than decimal number"
      ],
      "execution_count": 70,
      "outputs": []
    },
    {
      "cell_type": "code",
      "metadata": {
        "id": "AfAPWIjzp2gY",
        "colab": {
          "base_uri": "https://localhost:8080/"
        },
        "outputId": "153f01be-7c30-4005-b75a-fbcabc36d023"
      },
      "source": [
        "coin()"
      ],
      "execution_count": 71,
      "outputs": [
        {
          "output_type": "execute_result",
          "data": {
            "text/plain": [
              "0"
            ]
          },
          "metadata": {},
          "execution_count": 71
        }
      ]
    },
    {
      "cell_type": "code",
      "metadata": {
        "id": "m-fkSNLTp4TH",
        "colab": {
          "base_uri": "https://localhost:8080/",
          "height": 221
        },
        "outputId": "22206c34-03f9-4d21-d1d9-fced9593a5dc"
      },
      "source": [
        "display(HTML('<img src=\"https://random-ize.com/coin-flip/us-quarter/us-quarter-front.jpg\">'))"
      ],
      "execution_count": 72,
      "outputs": [
        {
          "output_type": "display_data",
          "data": {
            "text/plain": [
              "<IPython.core.display.HTML object>"
            ],
            "text/html": [
              "<img src=\"https://random-ize.com/coin-flip/us-quarter/us-quarter-front.jpg\">"
            ]
          },
          "metadata": {}
        }
      ]
    },
    {
      "cell_type": "markdown",
      "source": [
        "labeling the images to the correct variable"
      ],
      "metadata": {
        "id": "EPYFEFlDL5cA"
      }
    },
    {
      "cell_type": "code",
      "metadata": {
        "id": "PAyD2RQrq8ji"
      },
      "source": [
        "heads = 'https://random-ize.com/coin-flip/us-quarter/us-quarter-front.jpg'\n",
        "tails = 'https://random-ize.com/coin-flip/us-quarter/us-quarter-back.jpg'"
      ],
      "execution_count": 73,
      "outputs": []
    },
    {
      "cell_type": "code",
      "metadata": {
        "id": "BmZMzsCjrhaV"
      },
      "source": [
        "def show_img(img):\n",
        "  display(HTML('<img src=' + img + '>')) #src means search"
      ],
      "execution_count": 74,
      "outputs": []
    },
    {
      "cell_type": "code",
      "metadata": {
        "id": "UmSs0Jtrr_d2",
        "colab": {
          "base_uri": "https://localhost:8080/",
          "height": 221
        },
        "outputId": "b9d0b161-d949-4a66-c302-823765718a39"
      },
      "source": [
        "show_img(heads) #making sure the right image appears"
      ],
      "execution_count": 78,
      "outputs": [
        {
          "output_type": "display_data",
          "data": {
            "text/plain": [
              "<IPython.core.display.HTML object>"
            ],
            "text/html": [
              "<img src=https://random-ize.com/coin-flip/us-quarter/us-quarter-front.jpg>"
            ]
          },
          "metadata": {}
        }
      ]
    },
    {
      "cell_type": "code",
      "metadata": {
        "id": "LDcFpan0sBgm",
        "colab": {
          "base_uri": "https://localhost:8080/",
          "height": 221
        },
        "outputId": "a2422abf-3fa6-4807-e592-cd1ce135404a"
      },
      "source": [
        "show_img(tails)"
      ],
      "execution_count": 76,
      "outputs": [
        {
          "output_type": "display_data",
          "data": {
            "text/plain": [
              "<IPython.core.display.HTML object>"
            ],
            "text/html": [
              "<img src=https://random-ize.com/coin-flip/us-quarter/us-quarter-back.jpg>"
            ]
          },
          "metadata": {}
        }
      ]
    },
    {
      "cell_type": "code",
      "metadata": {
        "id": "U1Oe2gBlsFFQ"
      },
      "source": [
        "def flip_coin(): #making the coin flip action\n",
        "\n",
        "    if coin():\n",
        "        show_img(heads)\n",
        "    else:\n",
        "        show_img(tails)"
      ],
      "execution_count": 77,
      "outputs": []
    },
    {
      "cell_type": "code",
      "metadata": {
        "id": "qatV0cO1tLAF",
        "colab": {
          "base_uri": "https://localhost:8080/",
          "height": 221
        },
        "outputId": "442d93d3-8427-499b-b330-e556142dde47"
      },
      "source": [
        "flip_coin()"
      ],
      "execution_count": 79,
      "outputs": [
        {
          "output_type": "display_data",
          "data": {
            "text/plain": [
              "<IPython.core.display.HTML object>"
            ],
            "text/html": [
              "<img src=https://random-ize.com/coin-flip/us-quarter/us-quarter-back.jpg>"
            ]
          },
          "metadata": {}
        }
      ]
    },
    {
      "cell_type": "code",
      "source": [
        "for i in range(5): # in rang just tells me that i want to flip x amount of coins\n",
        "    flip_coin()"
      ],
      "metadata": {
        "id": "JK_63sBc9ze4",
        "colab": {
          "base_uri": "https://localhost:8080/",
          "height": 1000
        },
        "outputId": "bf1ef43f-9464-43f2-ef17-ed549e517065"
      },
      "execution_count": 80,
      "outputs": [
        {
          "output_type": "display_data",
          "data": {
            "text/plain": [
              "<IPython.core.display.HTML object>"
            ],
            "text/html": [
              "<img src=https://random-ize.com/coin-flip/us-quarter/us-quarter-front.jpg>"
            ]
          },
          "metadata": {}
        },
        {
          "output_type": "display_data",
          "data": {
            "text/plain": [
              "<IPython.core.display.HTML object>"
            ],
            "text/html": [
              "<img src=https://random-ize.com/coin-flip/us-quarter/us-quarter-back.jpg>"
            ]
          },
          "metadata": {}
        },
        {
          "output_type": "display_data",
          "data": {
            "text/plain": [
              "<IPython.core.display.HTML object>"
            ],
            "text/html": [
              "<img src=https://random-ize.com/coin-flip/us-quarter/us-quarter-back.jpg>"
            ]
          },
          "metadata": {}
        },
        {
          "output_type": "display_data",
          "data": {
            "text/plain": [
              "<IPython.core.display.HTML object>"
            ],
            "text/html": [
              "<img src=https://random-ize.com/coin-flip/us-quarter/us-quarter-back.jpg>"
            ]
          },
          "metadata": {}
        },
        {
          "output_type": "display_data",
          "data": {
            "text/plain": [
              "<IPython.core.display.HTML object>"
            ],
            "text/html": [
              "<img src=https://random-ize.com/coin-flip/us-quarter/us-quarter-back.jpg>"
            ]
          },
          "metadata": {}
        }
      ]
    },
    {
      "cell_type": "code",
      "metadata": {
        "id": "T6VX51Qwt4xb",
        "colab": {
          "base_uri": "https://localhost:8080/",
          "height": 221
        },
        "outputId": "3065c8e7-407a-45de-fbae-3ef140651658"
      },
      "source": [
        "#@title Coin Flip\n",
        "\n",
        "if coin():\n",
        "\n",
        "  show_img(heads)\n",
        "\n",
        "else:\n",
        "\n",
        "  show_img(tails)"
      ],
      "execution_count": 81,
      "outputs": [
        {
          "output_type": "display_data",
          "data": {
            "text/plain": [
              "<IPython.core.display.HTML object>"
            ],
            "text/html": [
              "<img src=https://random-ize.com/coin-flip/us-quarter/us-quarter-back.jpg>"
            ]
          },
          "metadata": {}
        }
      ]
    },
    {
      "cell_type": "code",
      "source": [],
      "metadata": {
        "id": "dbEMqBu1AVja"
      },
      "execution_count": 81,
      "outputs": []
    },
    {
      "cell_type": "markdown",
      "source": [
        "### Cards"
      ],
      "metadata": {
        "id": "HYFhDwx-5Tmb"
      }
    },
    {
      "cell_type": "code",
      "source": [
        "def shuffle(x):\n",
        "    for i in range(len(x)-1,0,-1):\n",
        "        j = np.random.randint(0,i+1) #add 1 because eaxh integer starts from 0\n",
        "        x[i],x[j] = x[j],x[i]\n",
        "        # print(j,x)\n",
        "    return x"
      ],
      "metadata": {
        "id": "Q7_rInrY0wvF"
      },
      "execution_count": 82,
      "outputs": []
    },
    {
      "cell_type": "code",
      "source": [
        "a = np.arange(52) #setting a variable for the amound of cards"
      ],
      "metadata": {
        "id": "b_ywmb911RR0"
      },
      "execution_count": 83,
      "outputs": []
    },
    {
      "cell_type": "code",
      "source": [
        "shuffle(a) #shuffle is self explanatory"
      ],
      "metadata": {
        "id": "hp96Lx2n9tCg",
        "colab": {
          "base_uri": "https://localhost:8080/"
        },
        "outputId": "0603d6cc-4742-49b6-d371-90c103755063"
      },
      "execution_count": 84,
      "outputs": [
        {
          "output_type": "execute_result",
          "data": {
            "text/plain": [
              "array([ 3, 30, 27, 31, 43,  9,  0, 10, 24, 36, 51, 44, 13, 48,  8, 37, 19,\n",
              "       42, 17, 23, 45, 33, 46, 47, 15,  2, 39,  4, 35, 14, 26, 11, 49, 25,\n",
              "       21,  6, 34,  1, 22,  7, 50, 40, 16,  5, 32, 18, 38, 28, 41, 12, 20,\n",
              "       29])"
            ]
          },
          "metadata": {},
          "execution_count": 84
        }
      ]
    },
    {
      "cell_type": "code",
      "source": [
        "np.random.permutation(52)"
      ],
      "metadata": {
        "id": "DRlb5RrU2Xpz",
        "colab": {
          "base_uri": "https://localhost:8080/"
        },
        "outputId": "0d432ee9-5489-4ddc-93c8-2938b3b66cff"
      },
      "execution_count": 85,
      "outputs": [
        {
          "output_type": "execute_result",
          "data": {
            "text/plain": [
              "array([11, 28, 31, 46, 43, 50,  7,  3, 29, 47, 35, 23, 41, 10,  2,  8,  1,\n",
              "       34, 19, 25, 39,  5, 16, 15, 36, 49, 22, 40,  4,  0, 32, 12, 24, 45,\n",
              "       18, 14, 17, 26, 21, 44, 20,  9, 27, 13, 33, 42,  6, 51, 38, 37, 30,\n",
              "       48])"
            ]
          },
          "metadata": {},
          "execution_count": 85
        }
      ]
    },
    {
      "cell_type": "markdown",
      "source": [
        "### Speed Test"
      ],
      "metadata": {
        "id": "qE1o4X7A-NnY"
      }
    },
    {
      "cell_type": "code",
      "source": [
        "%%timeit \n",
        "shuffle(a) #measures how long it takes to read the cell"
      ],
      "metadata": {
        "id": "quhAyA2x-Dhg",
        "colab": {
          "base_uri": "https://localhost:8080/"
        },
        "outputId": "70c68ce5-41e5-45cf-b3c5-f7fd42d83acf"
      },
      "execution_count": 86,
      "outputs": [
        {
          "output_type": "stream",
          "name": "stdout",
          "text": [
            "170 µs ± 5.75 µs per loop (mean ± std. dev. of 7 runs, 10000 loops each)\n"
          ]
        }
      ]
    },
    {
      "cell_type": "code",
      "source": [
        "%%timeit\n",
        "np.random.permutation(52) #time it takes to shuffle all 52 permutations"
      ],
      "metadata": {
        "id": "tSfGgWQD95RN",
        "colab": {
          "base_uri": "https://localhost:8080/"
        },
        "outputId": "d7723b1d-c11e-4c0d-f2a9-85fb2b3d4a03"
      },
      "execution_count": 87,
      "outputs": [
        {
          "output_type": "stream",
          "name": "stdout",
          "text": [
            "3.8 µs ± 298 ns per loop (mean ± std. dev. of 7 runs, 100000 loops each)\n"
          ]
        }
      ]
    },
    {
      "cell_type": "code",
      "source": [
        "import numpy as np"
      ],
      "metadata": {
        "id": "d5QNdIZmC5ZD"
      },
      "execution_count": 88,
      "outputs": []
    },
    {
      "cell_type": "code",
      "source": [
        "np.random.permutation(52) #random numbers from 0-51 for each card in the deck"
      ],
      "metadata": {
        "colab": {
          "base_uri": "https://localhost:8080/"
        },
        "id": "2d81sDv-C5fC",
        "outputId": "98d0ee37-91ee-4c6e-8e2d-87fa32fa0ae2"
      },
      "execution_count": 93,
      "outputs": [
        {
          "output_type": "execute_result",
          "data": {
            "text/plain": [
              "array([42,  4,  6, 49,  8, 32, 16, 17,  9, 39, 11, 24, 37, 50, 31, 12, 34,\n",
              "       22, 28, 23, 35,  2, 48, 38, 47,  3,  1, 29, 19, 36, 26, 21, 10, 43,\n",
              "       46,  5, 27, 14, 13, 18, 20, 51, 40, 41, 25, 44, 15,  0, 45, 33,  7,\n",
              "       30])"
            ]
          },
          "metadata": {},
          "execution_count": 93
        }
      ]
    },
    {
      "cell_type": "code",
      "source": [
        "cards = np.random.permutation(52)"
      ],
      "metadata": {
        "id": "utgxB3Hs-XzM"
      },
      "execution_count": 102,
      "outputs": []
    },
    {
      "cell_type": "code",
      "source": [
        "cards"
      ],
      "metadata": {
        "colab": {
          "base_uri": "https://localhost:8080/"
        },
        "id": "ymjkesO4DeL8",
        "outputId": "20b3c18c-1553-4b29-baeb-a8cf82f84e93"
      },
      "execution_count": 103,
      "outputs": [
        {
          "output_type": "execute_result",
          "data": {
            "text/plain": [
              "array([ 1, 41, 28, 42, 48, 32, 34, 38,  9, 25, 18,  8, 19, 35, 37,  4, 21,\n",
              "       29, 10, 13, 16, 46, 30, 43,  6,  7, 44, 50, 51, 39, 15,  0, 20,  2,\n",
              "        5, 47, 26, 12, 23, 22, 40, 45, 11, 31, 27, 17, 33, 14, 24, 36, 49,\n",
              "        3])"
            ]
          },
          "metadata": {},
          "execution_count": 103
        }
      ]
    },
    {
      "cell_type": "code",
      "source": [
        "cards[0] #states which card in the order of th shuffle you want"
      ],
      "metadata": {
        "id": "aD_pF-bb2XMr",
        "colab": {
          "base_uri": "https://localhost:8080/"
        },
        "outputId": "2abb5147-390d-453f-88cf-4175448ae6d5"
      },
      "execution_count": 92,
      "outputs": [
        {
          "output_type": "execute_result",
          "data": {
            "text/plain": [
              "16"
            ]
          },
          "metadata": {},
          "execution_count": 92
        }
      ]
    },
    {
      "cell_type": "code",
      "source": [
        "cards[1] #each time the \"cards\" variable shuffles, this number changes"
      ],
      "metadata": {
        "colab": {
          "base_uri": "https://localhost:8080/"
        },
        "id": "oMX21ZDyC8GE",
        "outputId": "a81cb05b-4e34-486e-baca-2b0094a166b6"
      },
      "execution_count": 106,
      "outputs": [
        {
          "output_type": "execute_result",
          "data": {
            "text/plain": [
              "41"
            ]
          },
          "metadata": {},
          "execution_count": 106
        }
      ]
    },
    {
      "cell_type": "code",
      "source": [
        "cards[2]"
      ],
      "metadata": {
        "colab": {
          "base_uri": "https://localhost:8080/"
        },
        "id": "iHJdkqRiC8Li",
        "outputId": "3e77f599-007a-403f-a5dc-9950a3dc0636"
      },
      "execution_count": 105,
      "outputs": [
        {
          "output_type": "execute_result",
          "data": {
            "text/plain": [
              "28"
            ]
          },
          "metadata": {},
          "execution_count": 105
        }
      ]
    },
    {
      "cell_type": "code",
      "source": [],
      "metadata": {
        "id": "kdbE-ZFVC8Uj"
      },
      "execution_count": 106,
      "outputs": []
    },
    {
      "cell_type": "markdown",
      "source": [
        "<img src='http://www.milefoot.com/math/discrete/counting/images/cards.png'>"
      ],
      "metadata": {
        "id": "4nzZ-igCdyI2"
      }
    },
    {
      "cell_type": "code",
      "source": [
        "np.arange(52).reshape(4,13) #reshapes into 4 rows of 13 columns"
      ],
      "metadata": {
        "id": "X2kL-cZdeMLN",
        "colab": {
          "base_uri": "https://localhost:8080/"
        },
        "outputId": "48c88eb1-dff4-4433-c329-bf6f1c1c1ccc"
      },
      "execution_count": 107,
      "outputs": [
        {
          "output_type": "execute_result",
          "data": {
            "text/plain": [
              "array([[ 0,  1,  2,  3,  4,  5,  6,  7,  8,  9, 10, 11, 12],\n",
              "       [13, 14, 15, 16, 17, 18, 19, 20, 21, 22, 23, 24, 25],\n",
              "       [26, 27, 28, 29, 30, 31, 32, 33, 34, 35, 36, 37, 38],\n",
              "       [39, 40, 41, 42, 43, 44, 45, 46, 47, 48, 49, 50, 51]])"
            ]
          },
          "metadata": {},
          "execution_count": 107
        }
      ]
    },
    {
      "cell_type": "code",
      "source": [
        "np.arange(52).reshape(4,13)%13 #the percent divides each columns and restarts at 0 (makes the number of the cards)"
      ],
      "metadata": {
        "id": "YfRxhh8BeV_a"
      },
      "execution_count": null,
      "outputs": []
    },
    {
      "cell_type": "code",
      "source": [
        "np.arange(52).reshape(4,13)//13 #the // seperates the rows into 4 (to make the suits)"
      ],
      "metadata": {
        "id": "fdzIqJr9e60L"
      },
      "execution_count": null,
      "outputs": []
    },
    {
      "cell_type": "code",
      "source": [
        "suits = ['Clubs','Spades','Hearts','Diamonds'] #put the name in the order of the suits in the image\n",
        "names = ['Ace','Two','Three','Four','Five','Six','Seven','Eight','Nine','Ten','Jack','Queen','King']"
      ],
      "metadata": {
        "id": "-xUjbfkQfUgL"
      },
      "execution_count": 117,
      "outputs": []
    },
    {
      "cell_type": "code",
      "source": [
        "def card_name(card_number):\n",
        "    \n",
        "    suit = card_number//13 \n",
        "    name = card_number%13\n",
        "\n",
        "    return names[name] + \" of \" + suits[suit]"
      ],
      "metadata": {
        "id": "-e-I-Cp7eFnx"
      },
      "execution_count": 111,
      "outputs": []
    },
    {
      "cell_type": "code",
      "source": [
        "card_name(0)"
      ],
      "metadata": {
        "colab": {
          "base_uri": "https://localhost:8080/",
          "height": 35
        },
        "id": "3Jz3yyAtGPfX",
        "outputId": "e880b365-9690-430e-c9ad-92b34f180360"
      },
      "execution_count": 119,
      "outputs": [
        {
          "output_type": "execute_result",
          "data": {
            "text/plain": [
              "'Ace of Clubs'"
            ],
            "application/vnd.google.colaboratory.intrinsic+json": {
              "type": "string"
            }
          },
          "metadata": {},
          "execution_count": 119
        }
      ]
    },
    {
      "cell_type": "code",
      "source": [
        "card_name(51)"
      ],
      "metadata": {
        "colab": {
          "base_uri": "https://localhost:8080/",
          "height": 35
        },
        "id": "WO3GC8uiGPp-",
        "outputId": "58f5ec3d-2bd5-40e1-8458-87a7da81733e"
      },
      "execution_count": 120,
      "outputs": [
        {
          "output_type": "execute_result",
          "data": {
            "text/plain": [
              "'King of Diamonds'"
            ],
            "application/vnd.google.colaboratory.intrinsic+json": {
              "type": "string"
            }
          },
          "metadata": {},
          "execution_count": 120
        }
      ]
    },
    {
      "cell_type": "code",
      "source": [
        "cards = np.random.permutation(52)"
      ],
      "metadata": {
        "id": "fAMR6SY43iB_"
      },
      "execution_count": 121,
      "outputs": []
    },
    {
      "cell_type": "code",
      "source": [
        "top_of_deck         = card_name(cards[0])\n",
        "second_card_in_deck = card_name(cards[1])\n",
        "last_card_in_deck   = card_name(cards[-1])"
      ],
      "metadata": {
        "id": "XGAe8yPY3iCA"
      },
      "execution_count": 115,
      "outputs": []
    },
    {
      "cell_type": "code",
      "source": [
        "top_of_deck, second_card_in_deck, last_card_in_deck #tells the cards in the order based on the current shuffle"
      ],
      "metadata": {
        "id": "erDo7giQ3fg6",
        "colab": {
          "base_uri": "https://localhost:8080/"
        },
        "outputId": "4283b892-474c-4264-914a-90bab7e2114b"
      },
      "execution_count": 116,
      "outputs": [
        {
          "output_type": "execute_result",
          "data": {
            "text/plain": [
              "('Queen of Diamonds', 'Queen of Hearts', 'Seven of Clubs')"
            ]
          },
          "metadata": {},
          "execution_count": 116
        }
      ]
    },
    {
      "cell_type": "code",
      "source": [
        "for i in range(5): #just drawing cards from the deck\n",
        "    print(card_name(cards[i]))"
      ],
      "metadata": {
        "id": "D_TDdCHv30GR",
        "colab": {
          "base_uri": "https://localhost:8080/"
        },
        "outputId": "b3a43031-e1bc-4ccd-b06a-d5dcfa7f9b7b"
      },
      "execution_count": 123,
      "outputs": [
        {
          "output_type": "stream",
          "name": "stdout",
          "text": [
            "Seven of Diamonds\n",
            "King of Clubs\n",
            "Five of Diamonds\n",
            "Three of Hearts\n",
            "Two of Spades\n"
          ]
        }
      ]
    },
    {
      "cell_type": "code",
      "source": [
        "for i in range(15):\n",
        "    print(card_name(cards[i]))"
      ],
      "metadata": {
        "colab": {
          "base_uri": "https://localhost:8080/"
        },
        "id": "_g9tC5TNHvXh",
        "outputId": "365bf548-c60f-400e-ec9c-558ef156488c"
      },
      "execution_count": 124,
      "outputs": [
        {
          "output_type": "stream",
          "name": "stdout",
          "text": [
            "Seven of Diamonds\n",
            "King of Clubs\n",
            "Five of Diamonds\n",
            "Three of Hearts\n",
            "Two of Spades\n",
            "Four of Clubs\n",
            "Ten of Spades\n",
            "Six of Hearts\n",
            "Eight of Clubs\n",
            "Three of Clubs\n",
            "Nine of Spades\n",
            "Nine of Hearts\n",
            "Queen of Clubs\n",
            "Jack of Spades\n",
            "Queen of Hearts\n"
          ]
        }
      ]
    },
    {
      "cell_type": "markdown",
      "source": [
        "https://www.improvemagic.com/all-playing-cards-names-with-pictures/"
      ],
      "metadata": {
        "id": "vdqtmIBN_a7r"
      }
    },
    {
      "cell_type": "code",
      "source": [],
      "metadata": {
        "id": "RxUyIi1dHvbh"
      },
      "execution_count": 124,
      "outputs": []
    },
    {
      "cell_type": "code",
      "source": [],
      "metadata": {
        "id": "80hX7BWqHvdn"
      },
      "execution_count": 124,
      "outputs": []
    },
    {
      "cell_type": "code",
      "source": [
        "card_url_head = \"https://www.improvemagic.com/wp-content/uploads/2020/11/\" #assigning an image to the variable \n",
        "card_url_tail = \".png\" "
      ],
      "metadata": {
        "id": "ZuGAbJIC_BGM"
      },
      "execution_count": 140,
      "outputs": []
    },
    {
      "cell_type": "code",
      "source": [
        "suit = ['k','p','s','l']\n",
        "card = ['a','2','3','4','5','6','7','8','9','10','j','q','k']"
      ],
      "metadata": {
        "id": "FSYUTq2F_BIx"
      },
      "execution_count": 126,
      "outputs": []
    },
    {
      "cell_type": "code",
      "source": [
        "i = np.random.randint(4) #4 for the amount of suits\n",
        "j = np.random.randint(13) #13 for the amount of number cards"
      ],
      "metadata": {
        "id": "4UBNVwxU_BL5"
      },
      "execution_count": 127,
      "outputs": []
    },
    {
      "cell_type": "code",
      "source": [
        "i,j "
      ],
      "metadata": {
        "colab": {
          "base_uri": "https://localhost:8080/"
        },
        "id": "pAx5veOKJYqk",
        "outputId": "a3788833-1281-4b9f-ad1a-a4787316d052"
      },
      "execution_count": 143,
      "outputs": [
        {
          "output_type": "execute_result",
          "data": {
            "text/plain": [
              "(51, 9)"
            ]
          },
          "metadata": {},
          "execution_count": 143
        }
      ]
    },
    {
      "cell_type": "code",
      "source": [
        "suit[i]"
      ],
      "metadata": {
        "id": "PJI87rOLADjE",
        "colab": {
          "base_uri": "https://localhost:8080/",
          "height": 35
        },
        "outputId": "d3b9269c-c2ba-4f71-f76e-76298227bcec"
      },
      "execution_count": 129,
      "outputs": [
        {
          "output_type": "execute_result",
          "data": {
            "text/plain": [
              "'p'"
            ],
            "application/vnd.google.colaboratory.intrinsic+json": {
              "type": "string"
            }
          },
          "metadata": {},
          "execution_count": 129
        }
      ]
    },
    {
      "cell_type": "code",
      "source": [
        "card[j]"
      ],
      "metadata": {
        "id": "4CDlPu3QAGrB",
        "colab": {
          "base_uri": "https://localhost:8080/",
          "height": 35
        },
        "outputId": "f3b9a405-6b07-4fa0-ebda-1f36559a5380"
      },
      "execution_count": 130,
      "outputs": [
        {
          "output_type": "execute_result",
          "data": {
            "text/plain": [
              "'10'"
            ],
            "application/vnd.google.colaboratory.intrinsic+json": {
              "type": "string"
            }
          },
          "metadata": {},
          "execution_count": 130
        }
      ]
    },
    {
      "cell_type": "code",
      "source": [
        "from IPython.core.display import display, HTML"
      ],
      "metadata": {
        "id": "nMrvAOnhK7EK"
      },
      "execution_count": 131,
      "outputs": []
    },
    {
      "cell_type": "code",
      "source": [
        "def show_img(img):\n",
        "  display(HTML('<img src=' + img + '>'))"
      ],
      "metadata": {
        "id": "sdXvvvlkAI6h"
      },
      "execution_count": 132,
      "outputs": []
    },
    {
      "cell_type": "code",
      "source": [
        "img = card_url_head + suit[i] + card[j] + card_url_tail"
      ],
      "metadata": {
        "id": "ZE-ENtczAVsM"
      },
      "execution_count": 133,
      "outputs": []
    },
    {
      "cell_type": "code",
      "source": [
        "show_img(img) #testing the code above"
      ],
      "metadata": {
        "id": "XJpPMK-NAVu4",
        "colab": {
          "base_uri": "https://localhost:8080/",
          "height": 334
        },
        "outputId": "8a4a9371-40a9-48df-bd2b-c4a13ad3c378"
      },
      "execution_count": 146,
      "outputs": [
        {
          "output_type": "display_data",
          "data": {
            "text/plain": [
              "<IPython.core.display.HTML object>"
            ],
            "text/html": [
              "<img src=https://www.improvemagic.com/wp-content/uploads/2020/11/lk.png>"
            ]
          },
          "metadata": {}
        }
      ]
    },
    {
      "cell_type": "code",
      "source": [],
      "metadata": {
        "id": "g2MOeQegKhyJ"
      },
      "execution_count": 139,
      "outputs": []
    },
    {
      "cell_type": "code",
      "source": [
        "def card_image(card_number):\n",
        "    \n",
        "    i = card_number//13\n",
        "    j = card_number%13\n",
        "\n",
        "    return suit[i]+card[j]"
      ],
      "metadata": {
        "id": "JtqOFl_WAVxd"
      },
      "execution_count": 135,
      "outputs": []
    },
    {
      "cell_type": "code",
      "source": [
        "card_image(3) #the suit and number of the 3rd card in the deck"
      ],
      "metadata": {
        "id": "K1MVgXJ-AVz0",
        "colab": {
          "base_uri": "https://localhost:8080/",
          "height": 35
        },
        "outputId": "3d25f7d1-94be-4372-b6e9-5b76604d68a9"
      },
      "execution_count": 142,
      "outputs": [
        {
          "output_type": "execute_result",
          "data": {
            "text/plain": [
              "'k4'"
            ],
            "application/vnd.google.colaboratory.intrinsic+json": {
              "type": "string"
            }
          },
          "metadata": {},
          "execution_count": 142
        }
      ]
    },
    {
      "cell_type": "code",
      "source": [
        "img = card_url_head + card_image(3) + card_url_tail"
      ],
      "metadata": {
        "id": "2TGYbXUiB1iw"
      },
      "execution_count": 138,
      "outputs": []
    },
    {
      "cell_type": "code",
      "source": [
        "show_img(img)"
      ],
      "metadata": {
        "id": "Ve1UcoH3B5sS",
        "colab": {
          "base_uri": "https://localhost:8080/",
          "height": 334
        },
        "outputId": "696a8797-8cc8-450b-c212-9ce4def0b74a"
      },
      "execution_count": 137,
      "outputs": [
        {
          "output_type": "display_data",
          "data": {
            "text/plain": [
              "<IPython.core.display.HTML object>"
            ],
            "text/html": [
              "<img src=https://www.improvemagic.com/wp-content/uploads/2020/11/p10.png>"
            ]
          },
          "metadata": {}
        }
      ]
    },
    {
      "cell_type": "code",
      "source": [
        "for i in range(52): \n",
        "    img = card_url_head + card_image(i) + card_url_tail\n",
        "    show_img(img)"
      ],
      "metadata": {
        "id": "UCervcFTB5ut",
        "colab": {
          "base_uri": "https://localhost:8080/",
          "height": 1000
        },
        "outputId": "5b3fcf75-ffb4-4917-ce23-52ddbafcb2fb"
      },
      "execution_count": 139,
      "outputs": [
        {
          "output_type": "display_data",
          "data": {
            "text/plain": [
              "<IPython.core.display.HTML object>"
            ],
            "text/html": [
              "<img src=https://www.improvemagic.com/wp-content/uploads/2020/11/ka.png>"
            ]
          },
          "metadata": {}
        },
        {
          "output_type": "display_data",
          "data": {
            "text/plain": [
              "<IPython.core.display.HTML object>"
            ],
            "text/html": [
              "<img src=https://www.improvemagic.com/wp-content/uploads/2020/11/k2.png>"
            ]
          },
          "metadata": {}
        },
        {
          "output_type": "display_data",
          "data": {
            "text/plain": [
              "<IPython.core.display.HTML object>"
            ],
            "text/html": [
              "<img src=https://www.improvemagic.com/wp-content/uploads/2020/11/k3.png>"
            ]
          },
          "metadata": {}
        },
        {
          "output_type": "display_data",
          "data": {
            "text/plain": [
              "<IPython.core.display.HTML object>"
            ],
            "text/html": [
              "<img src=https://www.improvemagic.com/wp-content/uploads/2020/11/k4.png>"
            ]
          },
          "metadata": {}
        },
        {
          "output_type": "display_data",
          "data": {
            "text/plain": [
              "<IPython.core.display.HTML object>"
            ],
            "text/html": [
              "<img src=https://www.improvemagic.com/wp-content/uploads/2020/11/k5.png>"
            ]
          },
          "metadata": {}
        },
        {
          "output_type": "display_data",
          "data": {
            "text/plain": [
              "<IPython.core.display.HTML object>"
            ],
            "text/html": [
              "<img src=https://www.improvemagic.com/wp-content/uploads/2020/11/k6.png>"
            ]
          },
          "metadata": {}
        },
        {
          "output_type": "display_data",
          "data": {
            "text/plain": [
              "<IPython.core.display.HTML object>"
            ],
            "text/html": [
              "<img src=https://www.improvemagic.com/wp-content/uploads/2020/11/k7.png>"
            ]
          },
          "metadata": {}
        },
        {
          "output_type": "display_data",
          "data": {
            "text/plain": [
              "<IPython.core.display.HTML object>"
            ],
            "text/html": [
              "<img src=https://www.improvemagic.com/wp-content/uploads/2020/11/k8.png>"
            ]
          },
          "metadata": {}
        },
        {
          "output_type": "display_data",
          "data": {
            "text/plain": [
              "<IPython.core.display.HTML object>"
            ],
            "text/html": [
              "<img src=https://www.improvemagic.com/wp-content/uploads/2020/11/k9.png>"
            ]
          },
          "metadata": {}
        },
        {
          "output_type": "display_data",
          "data": {
            "text/plain": [
              "<IPython.core.display.HTML object>"
            ],
            "text/html": [
              "<img src=https://www.improvemagic.com/wp-content/uploads/2020/11/k10.png>"
            ]
          },
          "metadata": {}
        },
        {
          "output_type": "display_data",
          "data": {
            "text/plain": [
              "<IPython.core.display.HTML object>"
            ],
            "text/html": [
              "<img src=https://www.improvemagic.com/wp-content/uploads/2020/11/kj.png>"
            ]
          },
          "metadata": {}
        },
        {
          "output_type": "display_data",
          "data": {
            "text/plain": [
              "<IPython.core.display.HTML object>"
            ],
            "text/html": [
              "<img src=https://www.improvemagic.com/wp-content/uploads/2020/11/kq.png>"
            ]
          },
          "metadata": {}
        },
        {
          "output_type": "display_data",
          "data": {
            "text/plain": [
              "<IPython.core.display.HTML object>"
            ],
            "text/html": [
              "<img src=https://www.improvemagic.com/wp-content/uploads/2020/11/kk.png>"
            ]
          },
          "metadata": {}
        },
        {
          "output_type": "display_data",
          "data": {
            "text/plain": [
              "<IPython.core.display.HTML object>"
            ],
            "text/html": [
              "<img src=https://www.improvemagic.com/wp-content/uploads/2020/11/pa.png>"
            ]
          },
          "metadata": {}
        },
        {
          "output_type": "display_data",
          "data": {
            "text/plain": [
              "<IPython.core.display.HTML object>"
            ],
            "text/html": [
              "<img src=https://www.improvemagic.com/wp-content/uploads/2020/11/p2.png>"
            ]
          },
          "metadata": {}
        },
        {
          "output_type": "display_data",
          "data": {
            "text/plain": [
              "<IPython.core.display.HTML object>"
            ],
            "text/html": [
              "<img src=https://www.improvemagic.com/wp-content/uploads/2020/11/p3.png>"
            ]
          },
          "metadata": {}
        },
        {
          "output_type": "display_data",
          "data": {
            "text/plain": [
              "<IPython.core.display.HTML object>"
            ],
            "text/html": [
              "<img src=https://www.improvemagic.com/wp-content/uploads/2020/11/p4.png>"
            ]
          },
          "metadata": {}
        },
        {
          "output_type": "display_data",
          "data": {
            "text/plain": [
              "<IPython.core.display.HTML object>"
            ],
            "text/html": [
              "<img src=https://www.improvemagic.com/wp-content/uploads/2020/11/p5.png>"
            ]
          },
          "metadata": {}
        },
        {
          "output_type": "display_data",
          "data": {
            "text/plain": [
              "<IPython.core.display.HTML object>"
            ],
            "text/html": [
              "<img src=https://www.improvemagic.com/wp-content/uploads/2020/11/p6.png>"
            ]
          },
          "metadata": {}
        },
        {
          "output_type": "display_data",
          "data": {
            "text/plain": [
              "<IPython.core.display.HTML object>"
            ],
            "text/html": [
              "<img src=https://www.improvemagic.com/wp-content/uploads/2020/11/p7.png>"
            ]
          },
          "metadata": {}
        },
        {
          "output_type": "display_data",
          "data": {
            "text/plain": [
              "<IPython.core.display.HTML object>"
            ],
            "text/html": [
              "<img src=https://www.improvemagic.com/wp-content/uploads/2020/11/p8.png>"
            ]
          },
          "metadata": {}
        },
        {
          "output_type": "display_data",
          "data": {
            "text/plain": [
              "<IPython.core.display.HTML object>"
            ],
            "text/html": [
              "<img src=https://www.improvemagic.com/wp-content/uploads/2020/11/p9.png>"
            ]
          },
          "metadata": {}
        },
        {
          "output_type": "display_data",
          "data": {
            "text/plain": [
              "<IPython.core.display.HTML object>"
            ],
            "text/html": [
              "<img src=https://www.improvemagic.com/wp-content/uploads/2020/11/p10.png>"
            ]
          },
          "metadata": {}
        },
        {
          "output_type": "display_data",
          "data": {
            "text/plain": [
              "<IPython.core.display.HTML object>"
            ],
            "text/html": [
              "<img src=https://www.improvemagic.com/wp-content/uploads/2020/11/pj.png>"
            ]
          },
          "metadata": {}
        },
        {
          "output_type": "display_data",
          "data": {
            "text/plain": [
              "<IPython.core.display.HTML object>"
            ],
            "text/html": [
              "<img src=https://www.improvemagic.com/wp-content/uploads/2020/11/pq.png>"
            ]
          },
          "metadata": {}
        },
        {
          "output_type": "display_data",
          "data": {
            "text/plain": [
              "<IPython.core.display.HTML object>"
            ],
            "text/html": [
              "<img src=https://www.improvemagic.com/wp-content/uploads/2020/11/pk.png>"
            ]
          },
          "metadata": {}
        },
        {
          "output_type": "display_data",
          "data": {
            "text/plain": [
              "<IPython.core.display.HTML object>"
            ],
            "text/html": [
              "<img src=https://www.improvemagic.com/wp-content/uploads/2020/11/sa.png>"
            ]
          },
          "metadata": {}
        },
        {
          "output_type": "display_data",
          "data": {
            "text/plain": [
              "<IPython.core.display.HTML object>"
            ],
            "text/html": [
              "<img src=https://www.improvemagic.com/wp-content/uploads/2020/11/s2.png>"
            ]
          },
          "metadata": {}
        },
        {
          "output_type": "display_data",
          "data": {
            "text/plain": [
              "<IPython.core.display.HTML object>"
            ],
            "text/html": [
              "<img src=https://www.improvemagic.com/wp-content/uploads/2020/11/s3.png>"
            ]
          },
          "metadata": {}
        },
        {
          "output_type": "display_data",
          "data": {
            "text/plain": [
              "<IPython.core.display.HTML object>"
            ],
            "text/html": [
              "<img src=https://www.improvemagic.com/wp-content/uploads/2020/11/s4.png>"
            ]
          },
          "metadata": {}
        },
        {
          "output_type": "display_data",
          "data": {
            "text/plain": [
              "<IPython.core.display.HTML object>"
            ],
            "text/html": [
              "<img src=https://www.improvemagic.com/wp-content/uploads/2020/11/s5.png>"
            ]
          },
          "metadata": {}
        },
        {
          "output_type": "display_data",
          "data": {
            "text/plain": [
              "<IPython.core.display.HTML object>"
            ],
            "text/html": [
              "<img src=https://www.improvemagic.com/wp-content/uploads/2020/11/s6.png>"
            ]
          },
          "metadata": {}
        },
        {
          "output_type": "display_data",
          "data": {
            "text/plain": [
              "<IPython.core.display.HTML object>"
            ],
            "text/html": [
              "<img src=https://www.improvemagic.com/wp-content/uploads/2020/11/s7.png>"
            ]
          },
          "metadata": {}
        },
        {
          "output_type": "display_data",
          "data": {
            "text/plain": [
              "<IPython.core.display.HTML object>"
            ],
            "text/html": [
              "<img src=https://www.improvemagic.com/wp-content/uploads/2020/11/s8.png>"
            ]
          },
          "metadata": {}
        },
        {
          "output_type": "display_data",
          "data": {
            "text/plain": [
              "<IPython.core.display.HTML object>"
            ],
            "text/html": [
              "<img src=https://www.improvemagic.com/wp-content/uploads/2020/11/s9.png>"
            ]
          },
          "metadata": {}
        },
        {
          "output_type": "display_data",
          "data": {
            "text/plain": [
              "<IPython.core.display.HTML object>"
            ],
            "text/html": [
              "<img src=https://www.improvemagic.com/wp-content/uploads/2020/11/s10.png>"
            ]
          },
          "metadata": {}
        },
        {
          "output_type": "display_data",
          "data": {
            "text/plain": [
              "<IPython.core.display.HTML object>"
            ],
            "text/html": [
              "<img src=https://www.improvemagic.com/wp-content/uploads/2020/11/sj.png>"
            ]
          },
          "metadata": {}
        },
        {
          "output_type": "display_data",
          "data": {
            "text/plain": [
              "<IPython.core.display.HTML object>"
            ],
            "text/html": [
              "<img src=https://www.improvemagic.com/wp-content/uploads/2020/11/sq.png>"
            ]
          },
          "metadata": {}
        },
        {
          "output_type": "display_data",
          "data": {
            "text/plain": [
              "<IPython.core.display.HTML object>"
            ],
            "text/html": [
              "<img src=https://www.improvemagic.com/wp-content/uploads/2020/11/sk.png>"
            ]
          },
          "metadata": {}
        },
        {
          "output_type": "display_data",
          "data": {
            "text/plain": [
              "<IPython.core.display.HTML object>"
            ],
            "text/html": [
              "<img src=https://www.improvemagic.com/wp-content/uploads/2020/11/la.png>"
            ]
          },
          "metadata": {}
        },
        {
          "output_type": "display_data",
          "data": {
            "text/plain": [
              "<IPython.core.display.HTML object>"
            ],
            "text/html": [
              "<img src=https://www.improvemagic.com/wp-content/uploads/2020/11/l2.png>"
            ]
          },
          "metadata": {}
        },
        {
          "output_type": "display_data",
          "data": {
            "text/plain": [
              "<IPython.core.display.HTML object>"
            ],
            "text/html": [
              "<img src=https://www.improvemagic.com/wp-content/uploads/2020/11/l3.png>"
            ]
          },
          "metadata": {}
        },
        {
          "output_type": "display_data",
          "data": {
            "text/plain": [
              "<IPython.core.display.HTML object>"
            ],
            "text/html": [
              "<img src=https://www.improvemagic.com/wp-content/uploads/2020/11/l4.png>"
            ]
          },
          "metadata": {}
        },
        {
          "output_type": "display_data",
          "data": {
            "text/plain": [
              "<IPython.core.display.HTML object>"
            ],
            "text/html": [
              "<img src=https://www.improvemagic.com/wp-content/uploads/2020/11/l5.png>"
            ]
          },
          "metadata": {}
        },
        {
          "output_type": "display_data",
          "data": {
            "text/plain": [
              "<IPython.core.display.HTML object>"
            ],
            "text/html": [
              "<img src=https://www.improvemagic.com/wp-content/uploads/2020/11/l6.png>"
            ]
          },
          "metadata": {}
        },
        {
          "output_type": "display_data",
          "data": {
            "text/plain": [
              "<IPython.core.display.HTML object>"
            ],
            "text/html": [
              "<img src=https://www.improvemagic.com/wp-content/uploads/2020/11/l7.png>"
            ]
          },
          "metadata": {}
        },
        {
          "output_type": "display_data",
          "data": {
            "text/plain": [
              "<IPython.core.display.HTML object>"
            ],
            "text/html": [
              "<img src=https://www.improvemagic.com/wp-content/uploads/2020/11/l8.png>"
            ]
          },
          "metadata": {}
        },
        {
          "output_type": "display_data",
          "data": {
            "text/plain": [
              "<IPython.core.display.HTML object>"
            ],
            "text/html": [
              "<img src=https://www.improvemagic.com/wp-content/uploads/2020/11/l9.png>"
            ]
          },
          "metadata": {}
        },
        {
          "output_type": "display_data",
          "data": {
            "text/plain": [
              "<IPython.core.display.HTML object>"
            ],
            "text/html": [
              "<img src=https://www.improvemagic.com/wp-content/uploads/2020/11/l10.png>"
            ]
          },
          "metadata": {}
        },
        {
          "output_type": "display_data",
          "data": {
            "text/plain": [
              "<IPython.core.display.HTML object>"
            ],
            "text/html": [
              "<img src=https://www.improvemagic.com/wp-content/uploads/2020/11/lj.png>"
            ]
          },
          "metadata": {}
        },
        {
          "output_type": "display_data",
          "data": {
            "text/plain": [
              "<IPython.core.display.HTML object>"
            ],
            "text/html": [
              "<img src=https://www.improvemagic.com/wp-content/uploads/2020/11/lq.png>"
            ]
          },
          "metadata": {}
        },
        {
          "output_type": "display_data",
          "data": {
            "text/plain": [
              "<IPython.core.display.HTML object>"
            ],
            "text/html": [
              "<img src=https://www.improvemagic.com/wp-content/uploads/2020/11/lk.png>"
            ]
          },
          "metadata": {}
        }
      ]
    },
    {
      "cell_type": "code",
      "source": [],
      "metadata": {
        "id": "jZ9e5Z9HB7sG"
      },
      "execution_count": null,
      "outputs": []
    }
  ]
}
