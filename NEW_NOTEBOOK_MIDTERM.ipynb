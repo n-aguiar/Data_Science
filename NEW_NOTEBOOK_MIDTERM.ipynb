{
  "nbformat": 4,
  "nbformat_minor": 0,
  "metadata": {
    "colab": {
      "provenance": [],
      "authorship_tag": "ABX9TyO9Lo32+9Vl5UFsdhRW1rFA",
      "include_colab_link": true
    },
    "kernelspec": {
      "name": "python3",
      "display_name": "Python 3"
    },
    "language_info": {
      "name": "python"
    }
  },
  "cells": [
    {
      "cell_type": "markdown",
      "metadata": {
        "id": "view-in-github",
        "colab_type": "text"
      },
      "source": [
        "<a href=\"https://colab.research.google.com/github/n-aguiar/Data_Science/blob/main/NEW_NOTEBOOK_MIDTERM.ipynb\" target=\"_parent\"><img src=\"https://colab.research.google.com/assets/colab-badge.svg\" alt=\"Open In Colab\"/></a>"
      ]
    },
    {
      "cell_type": "markdown",
      "source": [
        "importing the libary short cuts"
      ],
      "metadata": {
        "id": "2OA7pfN9Q-iQ"
      }
    },
    {
      "cell_type": "code",
      "execution_count": 31,
      "metadata": {
        "id": "w30TnipmQy05"
      },
      "outputs": [],
      "source": [
        "import numpy as np\n",
        "import matplotlib.pyplot as plt"
      ]
    },
    {
      "cell_type": "code",
      "source": [
        "X= np.array([12,9,20,7,2]) #importing the diamter as x \"shortcut\"\n",
        "Y= np.array([38,28,63,22,6]) #importing the circumfrenece as y \"shortcut\""
      ],
      "metadata": {
        "id": "zyngUon8Q91g"
      },
      "execution_count": 32,
      "outputs": []
    },
    {
      "cell_type": "code",
      "source": [
        "plt.plot(X,Y,\"g.\") #plotting the values from the chart as individual points"
      ],
      "metadata": {
        "colab": {
          "base_uri": "https://localhost:8080/",
          "height": 283
        },
        "id": "Xfa57Q2kRVUG",
        "outputId": "dfea5c75-6fd8-4d1d-e0f4-d67aea6c8d09"
      },
      "execution_count": 34,
      "outputs": [
        {
          "output_type": "execute_result",
          "data": {
            "text/plain": [
              "[<matplotlib.lines.Line2D at 0x7f9a013b58d0>]"
            ]
          },
          "metadata": {},
          "execution_count": 34
        },
        {
          "output_type": "display_data",
          "data": {
            "text/plain": [
              "<Figure size 432x288 with 1 Axes>"
            ],
            "image/png": "[encoded data removed]"
          },
          "metadata": {
            "needs_background": "light"
          }
        }
      ]
    },
    {
      "cell_type": "markdown",
      "source": [
        "linear model "
      ],
      "metadata": {
        "id": "rzoKfaPjSyPD"
      }
    },
    {
      "cell_type": "code",
      "source": [
        "m_guess = 0 #plotting intitial guess value?\n",
        "b_guess = 0 #plotting intial guess values?"
      ],
      "metadata": {
        "id": "c77NGHOqRe_G"
      },
      "execution_count": 35,
      "outputs": []
    },
    {
      "cell_type": "code",
      "source": [
        "m_guess* X + b_guess #mx+b technically"
      ],
      "metadata": {
        "colab": {
          "base_uri": "https://localhost:8080/"
        },
        "id": "AERF_fHYSLQy",
        "outputId": "d35da98a-6cb6-4396-d9ba-24fbd314edd3"
      },
      "execution_count": 36,
      "outputs": [
        {
          "output_type": "execute_result",
          "data": {
            "text/plain": [
              "array([0, 0, 0, 0, 0])"
            ]
          },
          "metadata": {},
          "execution_count": 36
        }
      ]
    },
    {
      "cell_type": "markdown",
      "source": [
        "$ y = mx + b$"
      ],
      "metadata": {
        "id": "U6ShH2UtS2gg"
      }
    },
    {
      "cell_type": "markdown",
      "source": [
        "five zeros because there are five inputs, having zeros cancels all values"
      ],
      "metadata": {
        "id": "VrMVlq4lS8kh"
      }
    },
    {
      "cell_type": "code",
      "source": [
        "y_guess= m_guess* X + b_guess #naming the y=guess"
      ],
      "metadata": {
        "id": "Iylgh2jpSP0N"
      },
      "execution_count": 37,
      "outputs": []
    },
    {
      "cell_type": "code",
      "source": [
        "y_guess - Y #\"y\" is orignal data\n",
        " #tells us how wrong the guess is, Just like the website. Substracting from the line to the data point (-)"
      ],
      "metadata": {
        "colab": {
          "base_uri": "https://localhost:8080/"
        },
        "id": "_HM7pMeITulj",
        "outputId": "95654094-e895-459a-f239-3feb9d1bbf72"
      },
      "execution_count": 38,
      "outputs": [
        {
          "output_type": "execute_result",
          "data": {
            "text/plain": [
              "array([-38, -28, -63, -22,  -6])"
            ]
          },
          "metadata": {},
          "execution_count": 38
        }
      ]
    },
    {
      "cell_type": "markdown",
      "source": [
        "The squares are the minus sign just squared to have a positive number.\n",
        "minimum squares is good\n"
      ],
      "metadata": {
        "id": "opf4a_GRUKV-"
      }
    },
    {
      "cell_type": "code",
      "source": [
        "(y_guess - Y )**2 #The previus text in action. No more negative numbers, just positives"
      ],
      "metadata": {
        "colab": {
          "base_uri": "https://localhost:8080/"
        },
        "id": "eL9cZWKETyQz",
        "outputId": "69063250-a525-4a6f-a012-f4c886431060"
      },
      "execution_count": 39,
      "outputs": [
        {
          "output_type": "execute_result",
          "data": {
            "text/plain": [
              "array([1444,  784, 3969,  484,   36])"
            ]
          },
          "metadata": {},
          "execution_count": 39
        }
      ]
    },
    {
      "cell_type": "code",
      "source": [
        "np.sum((y_guess - Y )**2 ) #calculating the total errors from each point"
      ],
      "metadata": {
        "colab": {
          "base_uri": "https://localhost:8080/"
        },
        "id": "VrS2nzlwUKA2",
        "outputId": "b0a27c74-b0ef-4aab-bee1-5c4028e6f0a7"
      },
      "execution_count": 52,
      "outputs": [
        {
          "output_type": "execute_result",
          "data": {
            "text/plain": [
              "3.583001734516836"
            ]
          },
          "metadata": {},
          "execution_count": 52
        }
      ]
    },
    {
      "cell_type": "markdown",
      "source": [
        " ^The sum of all the erros, mathenmactically shows the amount of area of error there is rather than just looking at the squares and guessing which is smallest"
      ],
      "metadata": {
        "id": "ZtEhlGSQU-nH"
      }
    },
    {
      "cell_type": "code",
      "source": [
        "loss = np.sum((y_guess - Y )**2) #naming the code for the margin of error as \"loss\""
      ],
      "metadata": {
        "id": "yK4N1Hg7UxHM"
      },
      "execution_count": 53,
      "outputs": []
    },
    {
      "cell_type": "markdown",
      "source": [
        "#How to make python to tell me that the best guess is out of the 100 values it guessed"
      ],
      "metadata": {
        "id": "XjP-qqfHZJUQ"
      }
    },
    {
      "cell_type": "code",
      "source": [
        "best_loss_so_far = 100000000000 #the orignal code\n",
        "m_best= 0 #make the best for both zero so that the code knows we want to get as close to zero as possible\n",
        "b_best= 0"
      ],
      "metadata": {
        "id": "wKO54hEqY9ZK"
      },
      "execution_count": 54,
      "outputs": []
    },
    {
      "cell_type": "code",
      "source": [
        "best_loss_so_far = 100000000000 \n",
        "m_best= 0\n",
        "b_best= 0\n",
        "\n",
        "\n",
        "for m_guess in np.linspace(-100,100,100): #making a best possible guess to find \"m\" assumings its not less than -100 or more than 100\n",
        "  for b_guess in np.linspace(-100,100,100): #calculating the all b guess for the indivual m guess given\n",
        "\n",
        "    y_guess= m_guess* X + b_guess #recalucating the \"y_guess\" in accordance to the \"m_guess\"\n",
        "\n",
        "    loss= np.sum((y_guess - Y)**2) #calculating the loss for each guess it makes\n",
        "\n",
        "   #just moved print from here lol\n",
        "\n",
        "    if loss < best_loss_so_far: #giving the code a way to determine what is the best fit im looking for\n",
        "      m_best = m_guess #renaming the guess to best\n",
        "      b_best = b_guess\n",
        "      best_loss_so_far= loss \n",
        "      #i moved the print out of the loop for best fit so that it would only print the value at the end. Gets rid of the big numbers \n",
        "print(\"Found Best fit;\") #changed from \"better\" to \"best\" since it is out of the loop and will only give me the final guess\n",
        "print(m_best,b_best,loss) #prints ALL values and their losses for us to see #change from \"m_guess\" to \"m_best\" so it prints the best guess and not the most recent guess\n",
        "\n"
      ],
      "metadata": {
        "colab": {
          "base_uri": "https://localhost:8080/"
        },
        "id": "HmbsCQU5WaSF",
        "outputId": "243084dc-a433-41e1-e9ec-8c5a1940f6b2"
      },
      "execution_count": 43,
      "outputs": [
        {
          "output_type": "stream",
          "name": "stdout",
          "text": [
            "Found Best fit;\n",
            "3.030303030303031 1.0101010101010104 7378517.0\n"
          ]
        }
      ]
    },
    {
      "cell_type": "code",
      "source": [
        "y_guess = m_best * X + b_best\n",
        "\n",
        "plt.plot(X,y_guess,'r') #plots the best fit line\n",
        "plt.plot(X,Y,\"g.\") #plots the points from the data set\n",
        "plt.show() \n",
        "\n",
        "print(best_loss_so_far,m_best, b_best) #prints the points from the best fit line's point"
      ],
      "metadata": {
        "colab": {
          "base_uri": "https://localhost:8080/",
          "height": 283
        },
        "id": "JC-CfqaLkENe",
        "outputId": "8d655396-3489-410c-b2bd-e3583c4d060e"
      },
      "execution_count": 51,
      "outputs": [
        {
          "output_type": "stream",
          "name": "stdout",
          "text": [
            "3.583001734516836 3.030303030303031 1.0101010101010104\n"
          ]
        },
        {
          "output_type": "display_data",
          "data": {
            "text/plain": [
              "<Figure size 432x288 with 1 Axes>"
            ],
            "image/png": "[encoded data removed]"
          },
          "metadata": {
            "needs_background": "light"
          }
        }
      ]
    },
    {
      "cell_type": "markdown",
      "source": [
        "#Questions:"
      ],
      "metadata": {
        "id": "4e-1Aa3uOJfV"
      }
    },
    {
      "cell_type": "markdown",
      "source": [
        "The estimated relationship is:\n",
        "\n",
        "$C = {π} D + B$"
      ],
      "metadata": {
        "id": "Utz0TyIuVmiA"
      }
    },
    {
      "cell_type": "markdown",
      "source": [
        "1) What do  $𝑚$  and  $𝑏$  represent in these equations?"
      ],
      "metadata": {
        "id": "71W69anSOU4Q"
      }
    },
    {
      "cell_type": "markdown",
      "source": [
        "$m$ = the slope of the best fit line\n",
        "$b$ = the y intercept of the best fit line"
      ],
      "metadata": {
        "id": "HwbwRYJYObKo"
      }
    },
    {
      "cell_type": "markdown",
      "source": [
        "2) Guess what the correct values $𝑚$  and  $𝑏$  should be."
      ],
      "metadata": {
        "id": "QYmisWHCObbx"
      }
    },
    {
      "cell_type": "markdown",
      "source": [
        "m=0 b=0; the closer to 0 the values are, the less erros there are in the best fit line."
      ],
      "metadata": {
        "id": "80_EZcp4ObmM"
      }
    },
    {
      "cell_type": "markdown",
      "source": [
        "3) Does it make sense to include  𝑏  in the parameters?"
      ],
      "metadata": {
        "id": "z1C8uukYObuh"
      }
    },
    {
      "cell_type": "markdown",
      "source": [
        "yes, you need to insert the parameters so that all possible intercepts within it can be tested to get the best fit line. "
      ],
      "metadata": {
        "id": "fbBOHMaHSm0k"
      }
    },
    {
      "cell_type": "code",
      "source": [],
      "metadata": {
        "id": "Htz1CP5-VUIi"
      },
      "execution_count": null,
      "outputs": []
    }
  ]
}